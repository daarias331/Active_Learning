{
 "cells": [
  {
   "cell_type": "markdown",
   "id": "wooden-renaissance",
   "metadata": {},
   "source": [
    "# COMP90051 Project 2\n",
    "**Name:** Diego Alejandro Arias Rodriguez\n",
    "\n",
    "**Student ID:** 1057230"
   ]
  },
  {
   "cell_type": "code",
   "execution_count": 16,
   "id": "iraqi-recommendation",
   "metadata": {},
   "outputs": [],
   "source": [
    "# First import all the necessary libraries\n",
    "import numpy as np\n",
    "from matplotlib import pyplot as plt\n",
    "import os\n",
    "import random\n",
    "from sklearn.model_selection import train_test_split\n",
    "from collections import defaultdict\n",
    "from collections import Counter\n",
    "import pandas as pd\n",
    "import warnings\n",
    "warnings.filterwarnings(\"ignore\")\n",
    "\n",
    " #Sklearn imports:\n",
    "from sklearn.linear_model import LogisticRegression\n",
    "from sklearn.naive_bayes import GaussianNB\n",
    "from sklearn.ensemble import BaggingClassifier\n",
    "from sklearn.metrics import accuracy_score\n",
    "from sklearn.utils import resample\n",
    "from scipy.stats import entropy"
   ]
  },
  {
   "cell_type": "markdown",
   "id": "defined-great",
   "metadata": {},
   "source": [
    "## 0. Loading the dataset"
   ]
  },
  {
   "cell_type": "code",
   "execution_count": 17,
   "id": "concerned-vessel",
   "metadata": {},
   "outputs": [],
   "source": [
    "# do not edit this cell\n",
    "# load the data files\n",
    "embedded_images = np.load('images.npy')\n",
    "labels = np.load('labels.npy')\n",
    "\n",
    "# split into pool & testing\n",
    "X_pool, X_test, y_pool, y_test = train_test_split(embedded_images, labels, \n",
    "                                                  test_size=0.5, random_state=1234, shuffle=True)\n",
    "\n",
    "# sample a seed set\n",
    "np.random.seed(1234)\n",
    "label2id = defaultdict(list)\n",
    "for i, label in enumerate(y_pool):\n",
    "    label2id[label].append(i)\n",
    "seed_set = []\n",
    "for label, ids in label2id.items():\n",
    "    seed_set.extend(np.random.choice(ids, size=10, replace=False))"
   ]
  },
  {
   "cell_type": "markdown",
   "id": "naval-income",
   "metadata": {},
   "source": [
    "## 1. Applying logistic regression"
   ]
  },
  {
   "cell_type": "markdown",
   "id": "stone-seller",
   "metadata": {},
   "source": [
    "#### First, I used Logistic Regression classifier and performed a gridsearch to find the best parameters, which turned out to be:\n",
    "#### Solver: lbfgs, max iterations: 250 and penalty:None. Please do not runthis sell unless you are interested in verifying it because it will take a long time. \n",
    "#### I did not try other solvers because they took very long eventhough some of them converged i.e. liblinear"
   ]
  },
  {
   "cell_type": "code",
   "execution_count": null,
   "id": "stuffed-bicycle",
   "metadata": {},
   "outputs": [],
   "source": [
    "#This Grid search was performed to find the best parameters:\n",
    "from sklearn.model_selection import GridSearchCV\n",
    "\n",
    "parameters = {'solver':['lbfgs'], 'penalty':('none','l2'), 'max_iter':[100,250,300]}\n",
    "logr=LogisticRegression()\n",
    "clf=GridSearchCV(logr, parameters, cv=5)\n",
    "\n",
    "clf.fit(X_pool, y_pool)\n",
    "\n",
    "sorted(clf.cv_results_.keys())\n",
    "\n",
    "pd.DataFrame(clf.cv_results_)"
   ]
  },
  {
   "cell_type": "code",
   "execution_count": 26,
   "id": "palestinian-preparation",
   "metadata": {},
   "outputs": [],
   "source": [
    "def train_logistic_regression(X, y, **args):\n",
    "    \"\"\"\n",
    "    Train a logistic regression model on dataset (X, y) and return trained model.\n",
    "    X: matrix of real values, size n x d\n",
    "    y: vector of string labels, size n\n",
    "    args: optional arguments e.g., for hyper-parameters\n",
    "    \"\"\"\n",
    "    # Here I use the hyperparameters that I found in the grid Search cv\n",
    "    lr = LogisticRegression(random_state=1234, solver='lbfgs', max_iter=250, penalty='none').fit(X, y)\n",
    "    \n",
    "    return lr"
   ]
  },
  {
   "cell_type": "code",
   "execution_count": 25,
   "id": "bored-alberta",
   "metadata": {},
   "outputs": [],
   "source": [
    "def evaluate_logistic_regression_accuracy(Xt, yt, model):\n",
    "    \"\"\"\n",
    "    Apply logistic regression prediction on dataset Xt and evaluate accuracy against yt,\n",
    "    returing the accuracy results as a scalar.\n",
    "    Xt: matrix of real values, size m x d\n",
    "    yt: vector of string labels, size m\n",
    "    \"\"\"\n",
    "    y_pred= model.predict(Xt)\n",
    "    \n",
    "    return accuracy_score(yt, y_pred)"
   ]
  },
  {
   "cell_type": "code",
   "execution_count": 22,
   "id": "whole-grenada",
   "metadata": {},
   "outputs": [
    {
     "name": "stdout",
     "output_type": "stream",
     "text": [
      "Test accuracy:  0.5719917012448132\n",
      "Wall time: 7.19 s\n"
     ]
    }
   ],
   "source": [
    "%%time\n",
    "# Code for training, evaluating & plotting results\n",
    "lr=train_logistic_regression(X_pool, y_pool)\n",
    "\n",
    "acc=evaluate_logistic_regression_accuracy(X_test, y_test, lr)\n",
    "\n",
    "print(\"Test accuracy: \",acc)"
   ]
  },
  {
   "cell_type": "markdown",
   "id": "sweet-elephant",
   "metadata": {},
   "source": [
    "## 2. Active learning framework with Random selection"
   ]
  },
  {
   "cell_type": "code",
   "execution_count": 24,
   "id": "ignored-compromise",
   "metadata": {},
   "outputs": [],
   "source": [
    "def random_select(X, model, **args):\n",
    "    \"\"\"\n",
    "    Given an unlabelled dataset X, a matrix of n x d, and a model (not used)\n",
    "    returns a vector of scores of length n. Each entry reflects the priority \n",
    "    of the corresponding instance. Higher means better.\n",
    "    \"\"\"\n",
    "    return np.random.rand(len(X),1).ravel()"
   ]
  },
  {
   "cell_type": "code",
   "execution_count": 27,
   "id": "lyric-constraint",
   "metadata": {},
   "outputs": [],
   "source": [
    "def pool_based_active_learning(X_pool, y_pool, seed_ids,\n",
    "                               train_func, select_func,\n",
    "                               max_size, batch_size, **args):\n",
    "    \"\"\"\n",
    "    Perform an active learning simulation, which starts by training on a seed set,\n",
    "    then iteratively applies the selection function to rank instances in the pool,\n",
    "    selects the top few instances which are included into the training set and the\n",
    "    process repeats. \n",
    "        X_pool: matrix of n x d\n",
    "        y_pool: vector of string labels, size n\n",
    "        seed_ids: initial labelled set set, as a list of indices [0..n-1] into pool\n",
    "        train_func: function which given (X, y, optional args) returns a trained model\n",
    "        select_func: function which given (X, optional args) returns a sequence of scores\n",
    "        max_size: stopping condition for active learning, when labelled data reaches given size\n",
    "        batch_size: number of instances to be labelled in each iteration\n",
    "        args: optional arguments passed to training and selection function\n",
    "    returns the sequence of trained models \n",
    "    \"\"\"\n",
    "    \n",
    "    known=seed_set.copy()\n",
    "    \n",
    "    #Subset of instances with known labels\n",
    "    L=[X_pool[index] for index in known] \n",
    "    L_lab= [y_pool[index] for index in known] #\n",
    "    \n",
    "    #Subset of instances with unknown labels\n",
    "    U=[X_pool[i] for i, data in enumerate(X_pool) if i not in known]\n",
    "    U_lab=[y_pool[i] for i, data in enumerate(y_pool) if i not in known]\n",
    "\n",
    "    \n",
    "    trained_models=[]\n",
    "\n",
    "    while len(L)<max_size:\n",
    "\n",
    "        model=train_func(L,L_lab)\n",
    "        \n",
    "        if type(model)==tuple:\n",
    "            trained_models.append(model[1])\n",
    "            scored=select_func(U, model[0])\n",
    "        else:\n",
    "            trained_models.append(model)\n",
    "            scored=select_func(U, model)     \n",
    "\n",
    "        #Selects the n top instances to query according to the selection function\n",
    "        data={'score':scored}\n",
    "        selected= pd.DataFrame(data)\n",
    "        selected=selected.sort_values(by=['score'],axis=0, ascending=False)\n",
    "        selected=selected.reset_index()\n",
    "        selected_indexes=selected['index'][:batch_size].tolist()\n",
    "        \n",
    "        #Updates L set\n",
    "        for i in selected_indexes:\n",
    "            L.append(U[i])\n",
    "            L_lab.append(U_lab[i])\n",
    "            \n",
    "        #Updates U set\n",
    "        U=[inst for i,inst in enumerate(U) if i not in selected_indexes]\n",
    "        U_lab=[lab_inst for i,lab_inst in enumerate(U_lab) if i not in selected_indexes]\n",
    "        \n",
    "    model=train_func(L,L_lab)\n",
    "    \n",
    "    if type(model)==tuple:\n",
    "        trained_models.append(model[1])\n",
    "    else:\n",
    "        trained_models.append(model)\n",
    "        \n",
    "#     print(\"len u after is:\", len(U), len(U_lab))\n",
    "#     print(\"len l after is:\", len(L), len(L_lab))\n",
    "\n",
    "    return trained_models"
   ]
  },
  {
   "cell_type": "code",
   "execution_count": 28,
   "id": "technical-edgar",
   "metadata": {},
   "outputs": [],
   "source": [
    "# Run the active learning framework with a random selection querying criteria\n",
    "batch = 60\n",
    "max_size = 3000\n",
    "models_random = pool_based_active_learning(X_pool, y_pool, seed_set, \n",
    "                                    train_logistic_regression, random_select, \n",
    "                                    max_size, batch)"
   ]
  },
  {
   "cell_type": "code",
   "execution_count": 31,
   "id": "complicated-allergy",
   "metadata": {},
   "outputs": [
    {
     "data": {
      "image/png": "[encoded data removed]",
      "text/plain": [
       "<Figure size 432x288 with 1 Axes>"
      ]
     },
     "metadata": {
      "needs_background": "light"
     },
     "output_type": "display_data"
    }
   ],
   "source": [
    "## Evaluation of accuracy and plotting of results of random sampling\n",
    "train_acc_list_r=[]\n",
    "test_acc_list_r=[]\n",
    "\n",
    "for model in models_random:\n",
    "    train_acc_list_r.append(evaluate_logistic_regression_accuracy(X_pool,y_pool,model))\n",
    "    test_acc_list_r.append(evaluate_logistic_regression_accuracy(X_test,y_test,model))\n",
    "\n",
    "\n",
    "    \n",
    "x=np.arange(300,3001,60)\n",
    "\n",
    "plt.plot(x, train_acc_list_r,label='train_accuracy')\n",
    "plt.plot(x, test_acc_list_r,label='test_accuracy')\n",
    "plt.title('Random sampling')\n",
    "plt.xlabel(\"# Queries instances\")\n",
    "plt.ylabel(\"Acc\")\n",
    "plt.legend()\n",
    "plt.show()"
   ]
  },
  {
   "cell_type": "markdown",
   "id": "numerical-novel",
   "metadata": {},
   "source": [
    "## 3. Uncertainty sampling"
   ]
  },
  {
   "cell_type": "code",
   "execution_count": 33,
   "id": "raised-mistress",
   "metadata": {},
   "outputs": [],
   "source": [
    "def logistic_regression_entropy_select(X, model, **args):\n",
    "    \"\"\"\n",
    "    Given an unlabelled dataset X, a matrix of n x d, and a discriminative model \n",
    "    P(y|x), returns a vector of n entropy values.\n",
    "    \"\"\"\n",
    "    preds=model.predict_proba(X)\n",
    "    entropies=[]\n",
    "    \n",
    "    for probs in preds:\n",
    "        entrop= entropy(probs)\n",
    "        entropies.append(entrop)\n",
    "        \n",
    "    return entropies"
   ]
  },
  {
   "cell_type": "code",
   "execution_count": 34,
   "id": "sustained-damages",
   "metadata": {},
   "outputs": [],
   "source": [
    "# Run the active learning framework with a random selection querying criteria\n",
    "models_us = pool_based_active_learning(X_pool, y_pool, seed_set, \n",
    "                                 train_logistic_regression,\n",
    "                                 logistic_regression_entropy_select, \n",
    "                                 max_size, batch)"
   ]
  },
  {
   "cell_type": "code",
   "execution_count": 35,
   "id": "affected-story",
   "metadata": {
    "tags": []
   },
   "outputs": [
    {
     "name": "stdout",
     "output_type": "stream",
     "text": [
      "46\n"
     ]
    },
    {
     "data": {
      "image/png": "[encoded data removed]",
      "text/plain": [
       "<Figure size 432x288 with 1 Axes>"
      ]
     },
     "metadata": {
      "needs_background": "light"
     },
     "output_type": "display_data"
    }
   ],
   "source": [
    "## Evaluation of accuracy and plotting of results of uncertainty sampling\n",
    "train_acc_list_us=[]\n",
    "test_acc_list_us=[]\n",
    "\n",
    "for model in models_us:\n",
    "    train_acc_list_us.append(evaluate_logistic_regression_accuracy(X_pool,y_pool,model))\n",
    "    test_acc_list_us.append(evaluate_logistic_regression_accuracy(X_test,y_test,model))\n",
    "\n",
    "x=np.arange(300,3001,60)\n",
    "\n",
    "plt.plot(x, train_acc_list_us,label='train_accuracy')\n",
    "plt.plot(x, test_acc_list_us,label='test_accuracy')\n",
    "plt.title('Uncertainty sampling')\n",
    "plt.ylabel(\"Acc\")\n",
    "plt.legend()\n",
    "plt.show()"
   ]
  },
  {
   "cell_type": "markdown",
   "id": "diverse-taxation",
   "metadata": {},
   "source": [
    "## 4. Query by committee"
   ]
  },
  {
   "cell_type": "code",
   "execution_count": 36,
   "id": "handy-water",
   "metadata": {},
   "outputs": [],
   "source": [
    "def query_by_committee_vote_entropy(X, model, **args):\n",
    "    \"\"\"\n",
    "    Given an unlabelled dataset X, a matrix of n x d, and a discriminative model \n",
    "    P(y|x), returns a vector of n entropy values using query_by_committee vote entropy criteria.\n",
    "    \"\"\"\n",
    "    \n",
    "    committee=model.estimators_ #Classifiers in the ensemble\n",
    "    C=len(model.estimators_) #Number of classifiers in the ensemble\n",
    "    \n",
    "    #Zips and creates matrix nxC. n=number of instances, C=number of estimators in the committee\n",
    "    pred_list=[estim.predict(X) for estim in committee]\n",
    "    zip_preds=list(zip(*pred_list))\n",
    "    preds_join=[list(instance) for instance in zip_preds]\n",
    "    \n",
    "    #Calculates the entropies for every instance\n",
    "    entropies=[]\n",
    "    for votes in preds_join:\n",
    "        counts=np.array(list(Counter(votes).values()))\n",
    "        probs=np.divide(counts,C)\n",
    "        entrop= entropy(probs)\n",
    "        entropies.append(entrop)\n",
    "    \n",
    "    return entropies\n",
    "\n",
    "def query_by_committee_soft_vote_entropy(X, model, **args):\n",
    "    \"\"\"\n",
    "    Given an unlabelled dataset X, a matrix of n x d, and a discriminative model \n",
    "    P(y|x), returns a vector of n entropy values using query_by_committee soft vote entropy criteria.\n",
    "    \"\"\"\n",
    "    \n",
    "    committee=model.estimators_ #Classifiers in the ensemble\n",
    "    C=len(model.estimators_) #Number of classifiers in the ensemble\n",
    "    \n",
    "    #Creates matrix CxnxY. n=number of instances, y=number of labels C=number of estimators in the committee\n",
    "    pred_list=[estim.predict_proba(X) for estim in committee]\n",
    "    \n",
    "    #Calculates Pc(y|x)\n",
    "    summed_preds=np.zeros(pred_list[0].shape)\n",
    "    for predClassif in  pred_list:\n",
    "        summed_preds+=predClassif\n",
    "    Pcygivenx=np.divide(summed_preds,C)\n",
    "\n",
    "    entropies=[]\n",
    "    for labels in Pcygivenx:\n",
    "        entrop= entropy(labels)\n",
    "        entropies.append(entrop)\n",
    "\n",
    "        verif=0\n",
    "        for j in labels:\n",
    "            verif+= j*np.log(j)\n",
    "        verif=verif*-1\n",
    "\n",
    "        assert abs(entrop-verif)<0.001\n",
    "    return entropies\n",
    "    pass\n",
    "\n",
    "def query_by_committee_KL(X, model, **args):\n",
    "    \"\"\"\n",
    "    Given an unlabelled dataset X, a matrix of n x d, and a discriminative model \n",
    "    P(y|x), returns a vector of n entropy values using query_by_committee KL divergence criteria.\n",
    "    \"\"\"\n",
    "    \n",
    "    committee=model.estimators_ #Classifiers in the ensemble\n",
    "    C=len(model.estimators_)    #Number of classifiers in the ensemble\n",
    "    \n",
    "    #Creates matrix CxnxY. n=number of instances, y=number of labels C=number of estimators in the committee\n",
    "    pred_list=[estim.predict_proba(X) for estim in committee] \n",
    "    \n",
    "    #Calculates Pc(y|x)\n",
    "    summed_preds=np.zeros(pred_list[0].shape)\n",
    "    for predClassif in  pred_list:\n",
    "        summed_preds+=predClassif\n",
    "    Pcygivenx=np.divide(summed_preds,C)\n",
    "\n",
    "    aux=[]\n",
    "    aux2=[]\n",
    "    aux3=[]\n",
    "    #Generates KL_div's for each classif\n",
    "    KL_div=[]\n",
    "    for preds_i in pred_list:\n",
    "        a1=np.divide(preds_i,Pcygivenx) #Divides Ptheta(Y|X) by Pc(Y|X)\n",
    "        aux.append(np.divide(preds_i,Pcygivenx)) #\n",
    "        a2=np.log(a1)\n",
    "        aux2.append(a2) #Applies natural logarithm to  Ptheta(Y|X)/Pc(Y|X)\n",
    "        a3=np.multiply(preds_i,a2)\n",
    "        aux3.append(a3)\n",
    "        diverg_classif=[]\n",
    "        for bylab in a3:\n",
    "            diverg_classif.append(sum(bylab))\n",
    "        KL_div.append(diverg_classif)\n",
    "\n",
    "    \n",
    "    entropies=np.zeros((len(KL_div[0]),))\n",
    "    # sums over the KL divergences that were found\n",
    "    for div in KL_div:\n",
    "\n",
    "        entropies+=div\n",
    "\n",
    "    \n",
    "    return np.divide(entropies,C)\n",
    "    \n",
    "    pass"
   ]
  },
  {
   "cell_type": "code",
   "execution_count": 37,
   "id": "continued-clothing",
   "metadata": {},
   "outputs": [],
   "source": [
    "def train_committee(X, y, **args):\n",
    "\n",
    "    committee=BaggingClassifier(base_estimator=LogisticRegression(),n_estimators=2, random_state=1234, bootstrap=True, max_samples=len(X)).fit(X, y)\n",
    "    \n",
    "    standard_lr=train_logistic_regression(X,y)\n",
    "    print(committee)\n",
    "    return (committee,standard_lr)\n",
    "    pass"
   ]
  },
  {
   "cell_type": "markdown",
   "id": "perfect-coordination",
   "metadata": {},
   "source": [
    "### First run models to improve readability of results later"
   ]
  },
  {
   "cell_type": "code",
   "execution_count": 38,
   "id": "selective-rendering",
   "metadata": {},
   "outputs": [
    {
     "name": "stdout",
     "output_type": "stream",
     "text": [
      "BaggingClassifier(base_estimator=LogisticRegression(), max_samples=300,\n",
      "                  n_estimators=2, random_state=1234)\n",
      "BaggingClassifier(base_estimator=LogisticRegression(), max_samples=360,\n",
      "                  n_estimators=2, random_state=1234)\n",
      "BaggingClassifier(base_estimator=LogisticRegression(), max_samples=420,\n",
      "                  n_estimators=2, random_state=1234)\n",
      "BaggingClassifier(base_estimator=LogisticRegression(), max_samples=480,\n",
      "                  n_estimators=2, random_state=1234)\n",
      "BaggingClassifier(base_estimator=LogisticRegression(), max_samples=540,\n",
      "                  n_estimators=2, random_state=1234)\n",
      "BaggingClassifier(base_estimator=LogisticRegression(), max_samples=600,\n",
      "                  n_estimators=2, random_state=1234)\n",
      "BaggingClassifier(base_estimator=LogisticRegression(), max_samples=660,\n",
      "                  n_estimators=2, random_state=1234)\n",
      "BaggingClassifier(base_estimator=LogisticRegression(), max_samples=720,\n",
      "                  n_estimators=2, random_state=1234)\n",
      "BaggingClassifier(base_estimator=LogisticRegression(), max_samples=780,\n",
      "                  n_estimators=2, random_state=1234)\n",
      "BaggingClassifier(base_estimator=LogisticRegression(), max_samples=840,\n",
      "                  n_estimators=2, random_state=1234)\n",
      "BaggingClassifier(base_estimator=LogisticRegression(), max_samples=900,\n",
      "                  n_estimators=2, random_state=1234)\n",
      "BaggingClassifier(base_estimator=LogisticRegression(), max_samples=960,\n",
      "                  n_estimators=2, random_state=1234)\n",
      "BaggingClassifier(base_estimator=LogisticRegression(), max_samples=1020,\n",
      "                  n_estimators=2, random_state=1234)\n",
      "BaggingClassifier(base_estimator=LogisticRegression(), max_samples=1080,\n",
      "                  n_estimators=2, random_state=1234)\n",
      "BaggingClassifier(base_estimator=LogisticRegression(), max_samples=1140,\n",
      "                  n_estimators=2, random_state=1234)\n",
      "BaggingClassifier(base_estimator=LogisticRegression(), max_samples=1200,\n",
      "                  n_estimators=2, random_state=1234)\n",
      "BaggingClassifier(base_estimator=LogisticRegression(), max_samples=1260,\n",
      "                  n_estimators=2, random_state=1234)\n",
      "BaggingClassifier(base_estimator=LogisticRegression(), max_samples=1320,\n",
      "                  n_estimators=2, random_state=1234)\n",
      "BaggingClassifier(base_estimator=LogisticRegression(), max_samples=1380,\n",
      "                  n_estimators=2, random_state=1234)\n",
      "BaggingClassifier(base_estimator=LogisticRegression(), max_samples=1440,\n",
      "                  n_estimators=2, random_state=1234)\n",
      "BaggingClassifier(base_estimator=LogisticRegression(), max_samples=1500,\n",
      "                  n_estimators=2, random_state=1234)\n",
      "BaggingClassifier(base_estimator=LogisticRegression(), max_samples=1560,\n",
      "                  n_estimators=2, random_state=1234)\n",
      "BaggingClassifier(base_estimator=LogisticRegression(), max_samples=1620,\n",
      "                  n_estimators=2, random_state=1234)\n",
      "BaggingClassifier(base_estimator=LogisticRegression(), max_samples=1680,\n",
      "                  n_estimators=2, random_state=1234)\n",
      "BaggingClassifier(base_estimator=LogisticRegression(), max_samples=1740,\n",
      "                  n_estimators=2, random_state=1234)\n",
      "BaggingClassifier(base_estimator=LogisticRegression(), max_samples=1800,\n",
      "                  n_estimators=2, random_state=1234)\n",
      "BaggingClassifier(base_estimator=LogisticRegression(), max_samples=1860,\n",
      "                  n_estimators=2, random_state=1234)\n",
      "BaggingClassifier(base_estimator=LogisticRegression(), max_samples=1920,\n",
      "                  n_estimators=2, random_state=1234)\n",
      "BaggingClassifier(base_estimator=LogisticRegression(), max_samples=1980,\n",
      "                  n_estimators=2, random_state=1234)\n",
      "BaggingClassifier(base_estimator=LogisticRegression(), max_samples=2040,\n",
      "                  n_estimators=2, random_state=1234)\n",
      "BaggingClassifier(base_estimator=LogisticRegression(), max_samples=2100,\n",
      "                  n_estimators=2, random_state=1234)\n",
      "BaggingClassifier(base_estimator=LogisticRegression(), max_samples=2160,\n",
      "                  n_estimators=2, random_state=1234)\n",
      "BaggingClassifier(base_estimator=LogisticRegression(), max_samples=2220,\n",
      "                  n_estimators=2, random_state=1234)\n",
      "BaggingClassifier(base_estimator=LogisticRegression(), max_samples=2280,\n",
      "                  n_estimators=2, random_state=1234)\n",
      "BaggingClassifier(base_estimator=LogisticRegression(), max_samples=2340,\n",
      "                  n_estimators=2, random_state=1234)\n",
      "BaggingClassifier(base_estimator=LogisticRegression(), max_samples=2400,\n",
      "                  n_estimators=2, random_state=1234)\n",
      "BaggingClassifier(base_estimator=LogisticRegression(), max_samples=2460,\n",
      "                  n_estimators=2, random_state=1234)\n",
      "BaggingClassifier(base_estimator=LogisticRegression(), max_samples=2520,\n",
      "                  n_estimators=2, random_state=1234)\n",
      "BaggingClassifier(base_estimator=LogisticRegression(), max_samples=2580,\n",
      "                  n_estimators=2, random_state=1234)\n",
      "BaggingClassifier(base_estimator=LogisticRegression(), max_samples=2640,\n",
      "                  n_estimators=2, random_state=1234)\n",
      "BaggingClassifier(base_estimator=LogisticRegression(), max_samples=2700,\n",
      "                  n_estimators=2, random_state=1234)\n",
      "BaggingClassifier(base_estimator=LogisticRegression(), max_samples=2760,\n",
      "                  n_estimators=2, random_state=1234)\n",
      "BaggingClassifier(base_estimator=LogisticRegression(), max_samples=2820,\n",
      "                  n_estimators=2, random_state=1234)\n",
      "BaggingClassifier(base_estimator=LogisticRegression(), max_samples=2880,\n",
      "                  n_estimators=2, random_state=1234)\n",
      "BaggingClassifier(base_estimator=LogisticRegression(), max_samples=2940,\n",
      "                  n_estimators=2, random_state=1234)\n",
      "BaggingClassifier(base_estimator=LogisticRegression(), max_samples=3000,\n",
      "                  n_estimators=2, random_state=1234)\n",
      "BaggingClassifier(base_estimator=LogisticRegression(), max_samples=300,\n",
      "                  n_estimators=2, random_state=1234)\n",
      "BaggingClassifier(base_estimator=LogisticRegression(), max_samples=360,\n",
      "                  n_estimators=2, random_state=1234)\n",
      "BaggingClassifier(base_estimator=LogisticRegression(), max_samples=420,\n",
      "                  n_estimators=2, random_state=1234)\n",
      "BaggingClassifier(base_estimator=LogisticRegression(), max_samples=480,\n",
      "                  n_estimators=2, random_state=1234)\n",
      "BaggingClassifier(base_estimator=LogisticRegression(), max_samples=540,\n",
      "                  n_estimators=2, random_state=1234)\n",
      "BaggingClassifier(base_estimator=LogisticRegression(), max_samples=600,\n",
      "                  n_estimators=2, random_state=1234)\n",
      "BaggingClassifier(base_estimator=LogisticRegression(), max_samples=660,\n",
      "                  n_estimators=2, random_state=1234)\n",
      "BaggingClassifier(base_estimator=LogisticRegression(), max_samples=720,\n",
      "                  n_estimators=2, random_state=1234)\n",
      "BaggingClassifier(base_estimator=LogisticRegression(), max_samples=780,\n",
      "                  n_estimators=2, random_state=1234)\n",
      "BaggingClassifier(base_estimator=LogisticRegression(), max_samples=840,\n",
      "                  n_estimators=2, random_state=1234)\n",
      "BaggingClassifier(base_estimator=LogisticRegression(), max_samples=900,\n",
      "                  n_estimators=2, random_state=1234)\n",
      "BaggingClassifier(base_estimator=LogisticRegression(), max_samples=960,\n",
      "                  n_estimators=2, random_state=1234)\n",
      "BaggingClassifier(base_estimator=LogisticRegression(), max_samples=1020,\n",
      "                  n_estimators=2, random_state=1234)\n",
      "BaggingClassifier(base_estimator=LogisticRegression(), max_samples=1080,\n",
      "                  n_estimators=2, random_state=1234)\n",
      "BaggingClassifier(base_estimator=LogisticRegression(), max_samples=1140,\n",
      "                  n_estimators=2, random_state=1234)\n",
      "BaggingClassifier(base_estimator=LogisticRegression(), max_samples=1200,\n",
      "                  n_estimators=2, random_state=1234)\n",
      "BaggingClassifier(base_estimator=LogisticRegression(), max_samples=1260,\n",
      "                  n_estimators=2, random_state=1234)\n",
      "BaggingClassifier(base_estimator=LogisticRegression(), max_samples=1320,\n",
      "                  n_estimators=2, random_state=1234)\n",
      "BaggingClassifier(base_estimator=LogisticRegression(), max_samples=1380,\n",
      "                  n_estimators=2, random_state=1234)\n",
      "BaggingClassifier(base_estimator=LogisticRegression(), max_samples=1440,\n",
      "                  n_estimators=2, random_state=1234)\n"
     ]
    },
    {
     "name": "stdout",
     "output_type": "stream",
     "text": [
      "BaggingClassifier(base_estimator=LogisticRegression(), max_samples=1500,\n",
      "                  n_estimators=2, random_state=1234)\n",
      "BaggingClassifier(base_estimator=LogisticRegression(), max_samples=1560,\n",
      "                  n_estimators=2, random_state=1234)\n",
      "BaggingClassifier(base_estimator=LogisticRegression(), max_samples=1620,\n",
      "                  n_estimators=2, random_state=1234)\n",
      "BaggingClassifier(base_estimator=LogisticRegression(), max_samples=1680,\n",
      "                  n_estimators=2, random_state=1234)\n",
      "BaggingClassifier(base_estimator=LogisticRegression(), max_samples=1740,\n",
      "                  n_estimators=2, random_state=1234)\n",
      "BaggingClassifier(base_estimator=LogisticRegression(), max_samples=1800,\n",
      "                  n_estimators=2, random_state=1234)\n",
      "BaggingClassifier(base_estimator=LogisticRegression(), max_samples=1860,\n",
      "                  n_estimators=2, random_state=1234)\n",
      "BaggingClassifier(base_estimator=LogisticRegression(), max_samples=1920,\n",
      "                  n_estimators=2, random_state=1234)\n",
      "BaggingClassifier(base_estimator=LogisticRegression(), max_samples=1980,\n",
      "                  n_estimators=2, random_state=1234)\n",
      "BaggingClassifier(base_estimator=LogisticRegression(), max_samples=2040,\n",
      "                  n_estimators=2, random_state=1234)\n",
      "BaggingClassifier(base_estimator=LogisticRegression(), max_samples=2100,\n",
      "                  n_estimators=2, random_state=1234)\n",
      "BaggingClassifier(base_estimator=LogisticRegression(), max_samples=2160,\n",
      "                  n_estimators=2, random_state=1234)\n",
      "BaggingClassifier(base_estimator=LogisticRegression(), max_samples=2220,\n",
      "                  n_estimators=2, random_state=1234)\n",
      "BaggingClassifier(base_estimator=LogisticRegression(), max_samples=2280,\n",
      "                  n_estimators=2, random_state=1234)\n",
      "BaggingClassifier(base_estimator=LogisticRegression(), max_samples=2340,\n",
      "                  n_estimators=2, random_state=1234)\n",
      "BaggingClassifier(base_estimator=LogisticRegression(), max_samples=2400,\n",
      "                  n_estimators=2, random_state=1234)\n",
      "BaggingClassifier(base_estimator=LogisticRegression(), max_samples=2460,\n",
      "                  n_estimators=2, random_state=1234)\n",
      "BaggingClassifier(base_estimator=LogisticRegression(), max_samples=2520,\n",
      "                  n_estimators=2, random_state=1234)\n",
      "BaggingClassifier(base_estimator=LogisticRegression(), max_samples=2580,\n",
      "                  n_estimators=2, random_state=1234)\n",
      "BaggingClassifier(base_estimator=LogisticRegression(), max_samples=2640,\n",
      "                  n_estimators=2, random_state=1234)\n",
      "BaggingClassifier(base_estimator=LogisticRegression(), max_samples=2700,\n",
      "                  n_estimators=2, random_state=1234)\n",
      "BaggingClassifier(base_estimator=LogisticRegression(), max_samples=2760,\n",
      "                  n_estimators=2, random_state=1234)\n",
      "BaggingClassifier(base_estimator=LogisticRegression(), max_samples=2820,\n",
      "                  n_estimators=2, random_state=1234)\n",
      "BaggingClassifier(base_estimator=LogisticRegression(), max_samples=2880,\n",
      "                  n_estimators=2, random_state=1234)\n",
      "BaggingClassifier(base_estimator=LogisticRegression(), max_samples=2940,\n",
      "                  n_estimators=2, random_state=1234)\n",
      "BaggingClassifier(base_estimator=LogisticRegression(), max_samples=3000,\n",
      "                  n_estimators=2, random_state=1234)\n",
      "BaggingClassifier(base_estimator=LogisticRegression(), max_samples=300,\n",
      "                  n_estimators=2, random_state=1234)\n",
      "BaggingClassifier(base_estimator=LogisticRegression(), max_samples=360,\n",
      "                  n_estimators=2, random_state=1234)\n",
      "BaggingClassifier(base_estimator=LogisticRegression(), max_samples=420,\n",
      "                  n_estimators=2, random_state=1234)\n",
      "BaggingClassifier(base_estimator=LogisticRegression(), max_samples=480,\n",
      "                  n_estimators=2, random_state=1234)\n",
      "BaggingClassifier(base_estimator=LogisticRegression(), max_samples=540,\n",
      "                  n_estimators=2, random_state=1234)\n",
      "BaggingClassifier(base_estimator=LogisticRegression(), max_samples=600,\n",
      "                  n_estimators=2, random_state=1234)\n",
      "BaggingClassifier(base_estimator=LogisticRegression(), max_samples=660,\n",
      "                  n_estimators=2, random_state=1234)\n",
      "BaggingClassifier(base_estimator=LogisticRegression(), max_samples=720,\n",
      "                  n_estimators=2, random_state=1234)\n",
      "BaggingClassifier(base_estimator=LogisticRegression(), max_samples=780,\n",
      "                  n_estimators=2, random_state=1234)\n",
      "BaggingClassifier(base_estimator=LogisticRegression(), max_samples=840,\n",
      "                  n_estimators=2, random_state=1234)\n",
      "BaggingClassifier(base_estimator=LogisticRegression(), max_samples=900,\n",
      "                  n_estimators=2, random_state=1234)\n",
      "BaggingClassifier(base_estimator=LogisticRegression(), max_samples=960,\n",
      "                  n_estimators=2, random_state=1234)\n",
      "BaggingClassifier(base_estimator=LogisticRegression(), max_samples=1020,\n",
      "                  n_estimators=2, random_state=1234)\n",
      "BaggingClassifier(base_estimator=LogisticRegression(), max_samples=1080,\n",
      "                  n_estimators=2, random_state=1234)\n",
      "BaggingClassifier(base_estimator=LogisticRegression(), max_samples=1140,\n",
      "                  n_estimators=2, random_state=1234)\n",
      "BaggingClassifier(base_estimator=LogisticRegression(), max_samples=1200,\n",
      "                  n_estimators=2, random_state=1234)\n",
      "BaggingClassifier(base_estimator=LogisticRegression(), max_samples=1260,\n",
      "                  n_estimators=2, random_state=1234)\n",
      "BaggingClassifier(base_estimator=LogisticRegression(), max_samples=1320,\n",
      "                  n_estimators=2, random_state=1234)\n",
      "BaggingClassifier(base_estimator=LogisticRegression(), max_samples=1380,\n",
      "                  n_estimators=2, random_state=1234)\n",
      "BaggingClassifier(base_estimator=LogisticRegression(), max_samples=1440,\n",
      "                  n_estimators=2, random_state=1234)\n",
      "BaggingClassifier(base_estimator=LogisticRegression(), max_samples=1500,\n",
      "                  n_estimators=2, random_state=1234)\n",
      "BaggingClassifier(base_estimator=LogisticRegression(), max_samples=1560,\n",
      "                  n_estimators=2, random_state=1234)\n",
      "BaggingClassifier(base_estimator=LogisticRegression(), max_samples=1620,\n",
      "                  n_estimators=2, random_state=1234)\n",
      "BaggingClassifier(base_estimator=LogisticRegression(), max_samples=1680,\n",
      "                  n_estimators=2, random_state=1234)\n",
      "BaggingClassifier(base_estimator=LogisticRegression(), max_samples=1740,\n",
      "                  n_estimators=2, random_state=1234)\n",
      "BaggingClassifier(base_estimator=LogisticRegression(), max_samples=1800,\n",
      "                  n_estimators=2, random_state=1234)\n",
      "BaggingClassifier(base_estimator=LogisticRegression(), max_samples=1860,\n",
      "                  n_estimators=2, random_state=1234)\n",
      "BaggingClassifier(base_estimator=LogisticRegression(), max_samples=1920,\n",
      "                  n_estimators=2, random_state=1234)\n",
      "BaggingClassifier(base_estimator=LogisticRegression(), max_samples=1980,\n",
      "                  n_estimators=2, random_state=1234)\n",
      "BaggingClassifier(base_estimator=LogisticRegression(), max_samples=2040,\n",
      "                  n_estimators=2, random_state=1234)\n",
      "BaggingClassifier(base_estimator=LogisticRegression(), max_samples=2100,\n",
      "                  n_estimators=2, random_state=1234)\n",
      "BaggingClassifier(base_estimator=LogisticRegression(), max_samples=2160,\n",
      "                  n_estimators=2, random_state=1234)\n",
      "BaggingClassifier(base_estimator=LogisticRegression(), max_samples=2220,\n",
      "                  n_estimators=2, random_state=1234)\n",
      "BaggingClassifier(base_estimator=LogisticRegression(), max_samples=2280,\n",
      "                  n_estimators=2, random_state=1234)\n",
      "BaggingClassifier(base_estimator=LogisticRegression(), max_samples=2340,\n",
      "                  n_estimators=2, random_state=1234)\n",
      "BaggingClassifier(base_estimator=LogisticRegression(), max_samples=2400,\n",
      "                  n_estimators=2, random_state=1234)\n",
      "BaggingClassifier(base_estimator=LogisticRegression(), max_samples=2460,\n",
      "                  n_estimators=2, random_state=1234)\n",
      "BaggingClassifier(base_estimator=LogisticRegression(), max_samples=2520,\n",
      "                  n_estimators=2, random_state=1234)\n",
      "BaggingClassifier(base_estimator=LogisticRegression(), max_samples=2580,\n",
      "                  n_estimators=2, random_state=1234)\n",
      "BaggingClassifier(base_estimator=LogisticRegression(), max_samples=2640,\n",
      "                  n_estimators=2, random_state=1234)\n"
     ]
    },
    {
     "name": "stdout",
     "output_type": "stream",
     "text": [
      "BaggingClassifier(base_estimator=LogisticRegression(), max_samples=2700,\n",
      "                  n_estimators=2, random_state=1234)\n",
      "BaggingClassifier(base_estimator=LogisticRegression(), max_samples=2760,\n",
      "                  n_estimators=2, random_state=1234)\n",
      "BaggingClassifier(base_estimator=LogisticRegression(), max_samples=2820,\n",
      "                  n_estimators=2, random_state=1234)\n",
      "BaggingClassifier(base_estimator=LogisticRegression(), max_samples=2880,\n",
      "                  n_estimators=2, random_state=1234)\n",
      "BaggingClassifier(base_estimator=LogisticRegression(), max_samples=2940,\n",
      "                  n_estimators=2, random_state=1234)\n",
      "BaggingClassifier(base_estimator=LogisticRegression(), max_samples=3000,\n",
      "                  n_estimators=2, random_state=1234)\n",
      "Wall time: 8min 16s\n"
     ]
    }
   ],
   "source": [
    "%%time\n",
    "#Runs hard voting\n",
    "models_hard_vote = pool_based_active_learning(X_pool, y_pool, seed_set, \n",
    "                                 train_committee,\n",
    "                                 query_by_committee_vote_entropy, \n",
    "                                 max_size, batch)\n",
    "# Runs soft voting\n",
    "models_soft_vote = pool_based_active_learning(X_pool, y_pool, seed_set, \n",
    "                                 train_committee,\n",
    "                                 query_by_committee_soft_vote_entropy, \n",
    "                                 max_size, batch)\n",
    "# Runs KL divergence\n",
    "models_kl = pool_based_active_learning(X_pool, y_pool, seed_set, \n",
    "                                 train_committee,\n",
    "                                 query_by_committee_KL, \n",
    "                                 max_size, batch)\n"
   ]
  },
  {
   "cell_type": "markdown",
   "id": "flexible-venice",
   "metadata": {},
   "source": [
    "# Hardvoting"
   ]
  },
  {
   "cell_type": "code",
   "execution_count": 39,
   "id": "prerequisite-excellence",
   "metadata": {},
   "outputs": [
    {
     "data": {
      "image/png": "[encoded data removed]",
      "text/plain": [
       "<Figure size 432x288 with 1 Axes>"
      ]
     },
     "metadata": {
      "needs_background": "light"
     },
     "output_type": "display_data"
    }
   ],
   "source": [
    "## Evaluation of accuracy and plotting of results of query by committee (hard voting)\n",
    "train_acc_list_hard=[]\n",
    "test_acc_list_hard=[]\n",
    "\n",
    "for model in models_hard_vote:\n",
    "    train_acc_list_hard.append(evaluate_logistic_regression_accuracy(X_pool,y_pool,model))\n",
    "    test_acc_list_hard.append(evaluate_logistic_regression_accuracy(X_test,y_test,model))\n",
    "\n",
    "x=np.arange(300,3001,60)\n",
    "\n",
    "plt.plot(x, train_acc_list_hard,label='train_accuracy')\n",
    "plt.plot(x, test_acc_list_hard,label='test_accuracy')\n",
    "plt.title('Hard voting sampling')\n",
    "plt.xlabel(\"# Queries instances\")\n",
    "plt.ylabel(\"Acc\")\n",
    "plt.legend()\n",
    "plt.show()"
   ]
  },
  {
   "cell_type": "markdown",
   "id": "bacterial-error",
   "metadata": {},
   "source": [
    "# Softvoting"
   ]
  },
  {
   "cell_type": "code",
   "execution_count": 44,
   "id": "cheap-introduction",
   "metadata": {},
   "outputs": [
    {
     "data": {
      "image/png": "[encoded data removed]",
      "text/plain": [
       "<Figure size 432x288 with 1 Axes>"
      ]
     },
     "metadata": {
      "needs_background": "light"
     },
     "output_type": "display_data"
    }
   ],
   "source": [
    "## Evaluation of accuracy and plotting of results of query by committee (soft voting)\n",
    "train_acc_list_soft=[]\n",
    "test_acc_list_soft=[]\n",
    "\n",
    "for model in models_soft_vote:\n",
    "    train_acc_list_soft.append(evaluate_logistic_regression_accuracy(X_pool,y_pool,model))\n",
    "    test_acc_list_soft.append(evaluate_logistic_regression_accuracy(X_test,y_test,model))\n",
    "\n",
    "x=np.arange(300,3001,60)\n",
    "\n",
    "plt.plot(x, train_acc_list_soft,label='train_accuracy')\n",
    "plt.plot(x, test_acc_list_soft,label='test_accuracy')\n",
    "plt.title('Soft sampling')\n",
    "plt.xlabel(\"# Queries instances\")\n",
    "plt.ylabel(\"Acc\")\n",
    "plt.legend()\n",
    "plt.show()"
   ]
  },
  {
   "cell_type": "markdown",
   "id": "encouraging-hacker",
   "metadata": {},
   "source": [
    "# KL entropy"
   ]
  },
  {
   "cell_type": "code",
   "execution_count": 45,
   "id": "short-frame",
   "metadata": {},
   "outputs": [
    {
     "data": {
      "image/png": "[encoded data removed]",
      "text/plain": [
       "<Figure size 432x288 with 1 Axes>"
      ]
     },
     "metadata": {
      "needs_background": "light"
     },
     "output_type": "display_data"
    }
   ],
   "source": [
    "## Evaluation of accuracy and plotting of results of query by committee (KL divergence)\n",
    "train_acc_list_KL=[]\n",
    "test_acc_list_KL=[]\n",
    "\n",
    "for model in models_kl:\n",
    "    train_acc_list_KL.append(evaluate_logistic_regression_accuracy(X_pool,y_pool,model))\n",
    "    test_acc_list_KL.append(evaluate_logistic_regression_accuracy(X_test,y_test,model))\n",
    "\n",
    "\n",
    "x=np.arange(300,3001,60)\n",
    "\n",
    "plt.plot(x, train_acc_list_KL,label='train_accuracy')\n",
    "plt.plot(x, test_acc_list_KL,label='test_accuracy')\n",
    "plt.title('KL sampling')\n",
    "plt.xlabel(\"# Queries instances\")\n",
    "plt.ylabel(\"Acc\")\n",
    "plt.legend()\n",
    "plt.show()"
   ]
  },
  {
   "cell_type": "markdown",
   "id": "changed-grenada",
   "metadata": {},
   "source": [
    "## Here we can visualize the results for the 3 committee methos altogether"
   ]
  },
  {
   "cell_type": "code",
   "execution_count": 46,
   "id": "approved-virus",
   "metadata": {},
   "outputs": [
    {
     "data": {
      "image/png": "[encoded data removed]",
      "text/plain": [
       "<Figure size 432x288 with 1 Axes>"
      ]
     },
     "metadata": {
      "needs_background": "light"
     },
     "output_type": "display_data"
    }
   ],
   "source": [
    "plt.plot(x, train_acc_list_KL,label='train_accuracy_KL')\n",
    "plt.plot(x, train_acc_list_hard,label='train_accuracy_hard')\n",
    "plt.plot(x, train_acc_list_soft,label='train_accuracy_soft')\n",
    "\n",
    "plt.plot(x, test_acc_list_hard,label='test_accuracy_hard')\n",
    "plt.plot(x, test_acc_list_soft,label='test_accuracy_soft')\n",
    "plt.plot(x, test_acc_list_KL,label='test_accuracy_KL')\n",
    "plt.title('Test Accuracy QBC')\n",
    "plt.xlabel(\"# Queries instances\")\n",
    "plt.ylabel(\"Acc\")\n",
    "plt.legend()\n",
    "plt.show()\n"
   ]
  }
 ],
 "metadata": {
  "kernelspec": {
   "display_name": "Python 3",
   "language": "python",
   "name": "python3"
  },
  "language_info": {
   "codemirror_mode": {
    "name": "ipython",
    "version": 3
   },
   "file_extension": ".py",
   "mimetype": "text/x-python",
   "name": "python",
   "nbconvert_exporter": "python",
   "pygments_lexer": "ipython3",
   "version": "3.7.10"
  }
 },
 "nbformat": 4,
 "nbformat_minor": 5
}
